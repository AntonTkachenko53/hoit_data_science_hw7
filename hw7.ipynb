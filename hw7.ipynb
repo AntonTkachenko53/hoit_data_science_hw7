{
  "nbformat": 4,
  "nbformat_minor": 0,
  "metadata": {
    "colab": {
      "provenance": []
    },
    "kernelspec": {
      "name": "python3",
      "display_name": "Python 3"
    },
    "language_info": {
      "name": "python"
    }
  },
  "cells": [
    {
      "cell_type": "code",
      "execution_count": 13,
      "metadata": {
        "id": "D3EJUBJXKyQu"
      },
      "outputs": [],
      "source": [
        "# !pip install scikit-surprise\n",
        "\n",
        "from surprise import SVD, SVDpp, NMF\n",
        "from surprise import Dataset\n",
        "from surprise.model_selection import cross_validate\n",
        "\n",
        "from surprise import accuracy\n",
        "from sklearn.metrics import mean_absolute_error\n",
        "from surprise.model_selection import train_test_split\n",
        "\n",
        "data = Dataset.load_builtin(name='ml-100k', prompt=False)"
      ]
    },
    {
      "cell_type": "code",
      "source": [
        "trainset, testset = train_test_split(data, test_size=0.2, random_state=42)\n",
        "\n",
        "svd_model = SVD(n_factors=100, random_state=42)\n",
        "\n",
        "svd_model.fit(trainset)\n",
        "\n",
        "predictions_svd = svd_model.test(testset)\n",
        "accuracy_svd = accuracy.rmse(predictions_svd)\n",
        "accuracy_svd"
      ],
      "metadata": {
        "colab": {
          "base_uri": "https://localhost:8080/"
        },
        "id": "dM4t2IDhcEMX",
        "outputId": "ca3ed607-8e51-4fe9-ae9f-d86043ad2355"
      },
      "execution_count": 8,
      "outputs": [
        {
          "output_type": "stream",
          "name": "stdout",
          "text": [
            "RMSE: 0.9352\n"
          ]
        },
        {
          "output_type": "execute_result",
          "data": {
            "text/plain": [
              "0.935171451026933"
            ]
          },
          "metadata": {},
          "execution_count": 8
        }
      ]
    },
    {
      "cell_type": "code",
      "source": [
        "# cross-validation\n",
        "\n",
        "algo = SVD()\n",
        "\n",
        "cross_validate(algo, data, measures=['RMSE', 'MAE'], cv=5, verbose=True)"
      ],
      "metadata": {
        "colab": {
          "base_uri": "https://localhost:8080/"
        },
        "id": "e0e3VCDjjs0K",
        "outputId": "00fcc767-4c17-4bad-abc5-69686b8b8e18"
      },
      "execution_count": 9,
      "outputs": [
        {
          "output_type": "stream",
          "name": "stdout",
          "text": [
            "Evaluating RMSE, MAE of algorithm SVD on 5 split(s).\n",
            "\n",
            "                  Fold 1  Fold 2  Fold 3  Fold 4  Fold 5  Mean    Std     \n",
            "RMSE (testset)    0.9338  0.9413  0.9363  0.9342  0.9362  0.9364  0.0027  \n",
            "MAE (testset)     0.7352  0.7432  0.7387  0.7369  0.7390  0.7386  0.0027  \n",
            "Fit time          1.38    1.84    1.37    1.38    1.34    1.46    0.19    \n",
            "Test time         0.20    0.13    0.25    0.13    0.26    0.20    0.06    \n"
          ]
        },
        {
          "output_type": "execute_result",
          "data": {
            "text/plain": [
              "{'test_rmse': array([0.93376222, 0.94134712, 0.93627181, 0.93422875, 0.93622245]),\n",
              " 'test_mae': array([0.73521033, 0.74317143, 0.73872246, 0.73692705, 0.73898675]),\n",
              " 'fit_time': (1.383239984512329,\n",
              "  1.8385541439056396,\n",
              "  1.374756097793579,\n",
              "  1.3808612823486328,\n",
              "  1.339799165725708),\n",
              " 'test_time': (0.20212960243225098,\n",
              "  0.13275408744812012,\n",
              "  0.25342369079589844,\n",
              "  0.13003921508789062,\n",
              "  0.2569139003753662)}"
            ]
          },
          "metadata": {},
          "execution_count": 9
        }
      ]
    },
    {
      "cell_type": "code",
      "source": [
        "model_svdpp = SVDpp(n_factors=100, random_state=42)\n",
        "\n",
        "model_svdpp.fit(trainset)\n",
        "predictions_svdpp = model_svdpp.test(testset)\n",
        "\n",
        "accuracy_svdpp = accuracy.rmse(predictions_svdpp)\n",
        "accuracy_svdpp"
      ],
      "metadata": {
        "colab": {
          "base_uri": "https://localhost:8080/"
        },
        "id": "H180KwcYkvrc",
        "outputId": "11c426f4-d63f-4085-d977-21e8adb5a4d2"
      },
      "execution_count": 12,
      "outputs": [
        {
          "output_type": "stream",
          "name": "stdout",
          "text": [
            "RMSE: 0.9314\n"
          ]
        },
        {
          "output_type": "execute_result",
          "data": {
            "text/plain": [
              "0.9314444184978957"
            ]
          },
          "metadata": {},
          "execution_count": 12
        }
      ]
    },
    {
      "cell_type": "code",
      "source": [
        "model_nmf = NMF(n_factors=100, random_state=42)\n",
        "\n",
        "model_nmf.fit(trainset)\n",
        "predictions_nmf = model_nmf.test(testset)\n",
        "\n",
        "accuracy_nmf = accuracy.rmse(predictions_nmf)\n",
        "accuracy_nmf"
      ],
      "metadata": {
        "colab": {
          "base_uri": "https://localhost:8080/"
        },
        "id": "GCE9BY_EmbQR",
        "outputId": "55e7c669-96b4-4a8a-f95a-ebca5ea0a46b"
      },
      "execution_count": 15,
      "outputs": [
        {
          "output_type": "stream",
          "name": "stdout",
          "text": [
            "RMSE: 1.1017\n"
          ]
        },
        {
          "output_type": "execute_result",
          "data": {
            "text/plain": [
              "1.1016866328959105"
            ]
          },
          "metadata": {},
          "execution_count": 15
        }
      ]
    },
    {
      "cell_type": "code",
      "source": [
        "model_nmf = NMF(n_factors=15, n_epochs=50, random_state=42)\n",
        "\n",
        "model_nmf.fit(trainset)\n",
        "predictions_nmf = model_nmf.test(testset)\n",
        "\n",
        "accuracy_nmf = accuracy.rmse(predictions_nmf)\n",
        "accuracy_nmf"
      ],
      "metadata": {
        "colab": {
          "base_uri": "https://localhost:8080/"
        },
        "id": "e7Yx-WWrnBeK",
        "outputId": "7b0ba29c-d40e-4a13-f4cc-98bf37b9ff75"
      },
      "execution_count": 16,
      "outputs": [
        {
          "output_type": "stream",
          "name": "stdout",
          "text": [
            "RMSE: 0.9594\n"
          ]
        },
        {
          "output_type": "execute_result",
          "data": {
            "text/plain": [
              "0.9594077989819743"
            ]
          },
          "metadata": {},
          "execution_count": 16
        }
      ]
    },
    {
      "cell_type": "markdown",
      "source": [
        "Як бачимо, SVD та SVDpp дають приблизно однакову точність, коли NMF із тими самими параметрами дало явне перенавчання моделі"
      ],
      "metadata": {
        "id": "G9hnNFWunJvO"
      }
    }
  ]
}